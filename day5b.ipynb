{
  "nbformat": 4,
  "nbformat_minor": 0,
  "metadata": {
    "colab": {
      "name": "day5b.ipynb",
      "provenance": [],
      "collapsed_sections": [],
      "mount_file_id": "1LkW7eqeypEcghaOMTqIhcQDiScme0GOh",
      "authorship_tag": "ABX9TyPuZTNw4q699IAe+xV4pbq1",
      "include_colab_link": true
    },
    "kernelspec": {
      "name": "python3",
      "display_name": "Python 3"
    },
    "accelerator": "GPU"
  },
  "cells": [
    {
      "cell_type": "markdown",
      "metadata": {
        "id": "view-in-github",
        "colab_type": "text"
      },
      "source": [
        "<a href=\"https://colab.research.google.com/github/ggierlik/dw_matrix_road_sign/blob/master/day5b.ipynb\" target=\"_parent\"><img src=\"https://colab.research.google.com/assets/colab-badge.svg\" alt=\"Open In Colab\"/></a>"
      ]
    },
    {
      "cell_type": "code",
      "metadata": {
        "id": "b4MfTRMaK7RJ",
        "colab_type": "code",
        "colab": {
          "base_uri": "https://localhost:8080/",
          "height": 182
        },
        "outputId": "26e27c70-691e-4cf7-8a6d-b38f92f813d0"
      },
      "source": [
        "!pip install hyperopt"
      ],
      "execution_count": 1,
      "outputs": [
        {
          "output_type": "stream",
          "text": [
            "Requirement already satisfied: hyperopt in /usr/local/lib/python3.6/dist-packages (0.1.2)\n",
            "Requirement already satisfied: future in /usr/local/lib/python3.6/dist-packages (from hyperopt) (0.16.0)\n",
            "Requirement already satisfied: pymongo in /usr/local/lib/python3.6/dist-packages (from hyperopt) (3.10.1)\n",
            "Requirement already satisfied: scipy in /usr/local/lib/python3.6/dist-packages (from hyperopt) (1.4.1)\n",
            "Requirement already satisfied: tqdm in /usr/local/lib/python3.6/dist-packages (from hyperopt) (4.38.0)\n",
            "Requirement already satisfied: numpy in /usr/local/lib/python3.6/dist-packages (from hyperopt) (1.18.2)\n",
            "Requirement already satisfied: six in /usr/local/lib/python3.6/dist-packages (from hyperopt) (1.12.0)\n",
            "Requirement already satisfied: networkx in /usr/local/lib/python3.6/dist-packages (from hyperopt) (2.4)\n",
            "Requirement already satisfied: decorator>=4.3.0 in /usr/local/lib/python3.6/dist-packages (from networkx->hyperopt) (4.4.2)\n"
          ],
          "name": "stdout"
        }
      ]
    },
    {
      "cell_type": "code",
      "metadata": {
        "id": "l12IT2CeLRJj",
        "colab_type": "code",
        "colab": {
          "base_uri": "https://localhost:8080/",
          "height": 54
        },
        "outputId": "394b824a-0350-4e2c-a659-5049028b6bc5"
      },
      "source": [
        "import pandas as pd\n",
        "import numpy as np\n",
        "\n",
        "import tensorflow as tf\n",
        "from tensorflow.keras.models import Sequential\n",
        "from tensorflow.keras.layers import Conv2D, MaxPool2D, Dense, Flatten, Dropout\n",
        "from tensorflow.keras.utils import to_categorical\n",
        "\n",
        "import os\n",
        "import datetime\n",
        "\n",
        "%load_ext tensorboard\n",
        "\n",
        "import matplotlib.pyplot as plt\n",
        "from skimage import color, exposure\n",
        "\n",
        "from sklearn.metrics import accuracy_score\n",
        "\n",
        "from hyperopt import hp, STATUS_OK, tpe, Trials, fmin\n"
      ],
      "execution_count": 13,
      "outputs": [
        {
          "output_type": "stream",
          "text": [
            "The tensorboard extension is already loaded. To reload it, use:\n",
            "  %reload_ext tensorboard\n"
          ],
          "name": "stdout"
        }
      ]
    },
    {
      "cell_type": "code",
      "metadata": {
        "id": "9l4NPIhPLhJH",
        "colab_type": "code",
        "colab": {
          "base_uri": "https://localhost:8080/",
          "height": 35
        },
        "outputId": "3b7e4dda-a48d-4a2a-f045-2dfeaefe142c"
      },
      "source": [
        "cd '/content/drive/My Drive/Colab Notebooks/matrix/matrix_three/dw_matrix_road_sign'"
      ],
      "execution_count": 4,
      "outputs": [
        {
          "output_type": "stream",
          "text": [
            "/content/drive/My Drive/Colab Notebooks/matrix/matrix_three/dw_matrix_road_sign\n"
          ],
          "name": "stdout"
        }
      ]
    },
    {
      "cell_type": "code",
      "metadata": {
        "id": "mQnv38nxLpP1",
        "colab_type": "code",
        "colab": {}
      },
      "source": [
        "train = pd.read_pickle('data/train.p')\n",
        "test = pd.read_pickle('data/test.p')\n",
        "\n",
        "X_train, y_train = train['features'], train['labels']\n",
        "X_test, y_test = test['features'], test['labels']"
      ],
      "execution_count": 0,
      "outputs": []
    },
    {
      "cell_type": "code",
      "metadata": {
        "id": "MFUnfNcFLud-",
        "colab_type": "code",
        "colab": {}
      },
      "source": [
        "if y_train.ndim == 1: y_train = to_categorical(y_train)\n",
        "if y_test.ndim == 1: y_test = to_categorical(y_test)"
      ],
      "execution_count": 0,
      "outputs": []
    },
    {
      "cell_type": "code",
      "metadata": {
        "id": "K8Bp1Jf0L6K9",
        "colab_type": "code",
        "colab": {}
      },
      "source": [
        "input_shape = X_train.shape[1:] #obcina pierwszy element\n",
        "num_classes = y_train.shape[1]"
      ],
      "execution_count": 0,
      "outputs": []
    },
    {
      "cell_type": "code",
      "metadata": {
        "id": "dXZ3ejMtMAd9",
        "colab_type": "code",
        "colab": {}
      },
      "source": [
        "def train_model(model, X_train, y_train, params_fit={}):\n",
        "  model.compile(loss='categorical_crossentropy', optimizer='Adam', metrics=['accuracy'])\n",
        "\n",
        "  logdir = os.path.join(\"logs\", datetime.datetime.now().strftime(\"%Y%m%d-%H%M%S\"))\n",
        "  tensorboard_callback = tf.keras.callbacks.TensorBoard(logdir, histogram_freq=1)\n",
        "\n",
        "  model.fit(X_train, y_train, \n",
        "            batch_size=params_fit.get('batch_size', 128), #rozmiar paczki wejściowej\n",
        "            epochs=params_fit.get('epochs', 5),\n",
        "            verbose=params_fit.get('verbose', 1),\n",
        "            validation_data=params_fit.get('validation_data', (X_train, y_train)),\n",
        "            callbacks=[tensorboard_callback]\n",
        "  )\n",
        "\n",
        "  return model"
      ],
      "execution_count": 0,
      "outputs": []
    },
    {
      "cell_type": "code",
      "metadata": {
        "id": "N-w1ARWMML5-",
        "colab_type": "code",
        "colab": {}
      },
      "source": [
        "def predict(model_trained, X_test, y_test, scoring=accuracy_score):\n",
        "  y_test_norm = np.argmax(y_test, axis=1)\n",
        "\n",
        "  y_pred_prob = model_trained.predict(X_test)\n",
        "  y_pred = np.argmax(y_pred_prob, axis=1)\n",
        "\n",
        "  return scoring(y_test_norm, y_pred)"
      ],
      "execution_count": 0,
      "outputs": []
    },
    {
      "cell_type": "code",
      "metadata": {
        "id": "KytwCORyMRiU",
        "colab_type": "code",
        "colab": {}
      },
      "source": [
        "def get_model(params):\n",
        "    return Sequential([\n",
        "    Conv2D(filters=32, kernel_size=(3, 3), activation='relu', input_shape=input_shape),\n",
        "    Conv2D(filters=32, kernel_size=(3, 3), activation='relu', padding='same'),\n",
        "    MaxPool2D(),\n",
        "    Dropout(params['dropout_cnn_block_one']),\n",
        "    \n",
        "    Conv2D(filters=64, kernel_size=(3, 3), activation='relu', padding='same'),\n",
        "    Conv2D(filters=64, kernel_size=(3, 3), activation='relu'),\n",
        "    MaxPool2D(),\n",
        "    Dropout(params['dropout_cnn_block_two']),\n",
        "    \n",
        "    Conv2D(filters=128, kernel_size=(3, 3), activation='relu', padding='same'),\n",
        "    Conv2D(filters=128, kernel_size=(3, 3), activation='relu'),\n",
        "    MaxPool2D(),\n",
        "    Dropout(params['dropout_cnn_block_three']),\n",
        "\n",
        "    Flatten(),\n",
        "\n",
        "    Dense(1024, activation='relu'),\n",
        "    Dropout(params['dropout_danse_block_one']),\n",
        "\n",
        "    Dense(1024, activation='relu'),\n",
        "    Dropout(params['dropout_danse_block_two']),\n",
        "        \n",
        "    Dense(num_classes, activation='softmax'),\n",
        "  ])\n",
        "    "
      ],
      "execution_count": 0,
      "outputs": []
    },
    {
      "cell_type": "code",
      "metadata": {
        "id": "m8HUF_a0Mb08",
        "colab_type": "code",
        "colab": {
          "base_uri": "https://localhost:8080/",
          "height": 219
        },
        "outputId": "9d78acb5-c4b7-4e77-b548-3c47bf49ad1a"
      },
      "source": [
        "model = get_cnn_v5(input_shape, num_classes) # zmienily sie kanaly\n",
        "model_trained = train_model(model, X_train, y_train, params_fit={})\n",
        "predict(model_trained, X_test, y_test)"
      ],
      "execution_count": 12,
      "outputs": [
        {
          "output_type": "stream",
          "text": [
            "Epoch 1/5\n",
            "272/272 [==============================] - 6s 24ms/step - loss: 2.5977 - accuracy: 0.2804 - val_loss: 1.2784 - val_accuracy: 0.5926\n",
            "Epoch 2/5\n",
            "272/272 [==============================] - 6s 22ms/step - loss: 1.0953 - accuracy: 0.6534 - val_loss: 0.3812 - val_accuracy: 0.8880\n",
            "Epoch 3/5\n",
            "272/272 [==============================] - 6s 22ms/step - loss: 0.5356 - accuracy: 0.8297 - val_loss: 0.1598 - val_accuracy: 0.9500\n",
            "Epoch 4/5\n",
            "272/272 [==============================] - 6s 22ms/step - loss: 0.3400 - accuracy: 0.8919 - val_loss: 0.0982 - val_accuracy: 0.9677\n",
            "Epoch 5/5\n",
            "272/272 [==============================] - 6s 22ms/step - loss: 0.2743 - accuracy: 0.9157 - val_loss: 0.0594 - val_accuracy: 0.9826\n"
          ],
          "name": "stdout"
        },
        {
          "output_type": "execute_result",
          "data": {
            "text/plain": [
              "0.9512471655328798"
            ]
          },
          "metadata": {
            "tags": []
          },
          "execution_count": 12
        }
      ]
    },
    {
      "cell_type": "code",
      "metadata": {
        "id": "XRq0QeieNA_T",
        "colab_type": "code",
        "colab": {}
      },
      "source": [
        "def func_obj(params):\n",
        "  model = get_model(params) # zmienily sie kanaly\n",
        "  model.compile(loss='categorical_crossentropy', optimizer='Adam', metrics=['accuracy'])\n",
        "\n",
        "  model.fit(X_train,\n",
        "            y_train, \n",
        "            batch_size=int(params.get('batch_size', 128)), #rozmiar paczki wejściowej\n",
        "            epochs=5,\n",
        "            verbose=0\n",
        "  )\n",
        "\n",
        "  score = model.evaluate(X_test, y_test, verbose=0)\n",
        "  accuracy = score[1]\n",
        "  print(params, 'accuracy={}'.format(accuracy))\n",
        "\n",
        "  return {'loss': -accuracy, 'status': STATUS_OK, 'model': model} # minus aby dążyć do najmniejszej wartości -1 (1=100% najlepsza wartość)"
      ],
      "execution_count": 0,
      "outputs": []
    },
    {
      "cell_type": "code",
      "metadata": {
        "id": "SQ4gSQn7OmwW",
        "colab_type": "code",
        "colab": {
          "base_uri": "https://localhost:8080/",
          "height": 1000
        },
        "outputId": "d1ec4d1d-77f8-4846-a141-7fc846d9846a"
      },
      "source": [
        "space = {\n",
        "    'batch_size': hp.quniform('batch_size', 100, 200, 10),\n",
        "    'dropout_cnn_block_one': hp.uniform('dropout_cnn_block_one', 0.3, 0.5),\n",
        "    'dropout_cnn_block_two': hp.uniform('dropout_cnn_block_two', 0.3, 0.5),\n",
        "    'dropout_cnn_block_three': hp.uniform('dropout_cnn_block_three', 0.3, 0.5),\n",
        "    'dropout_danse_block_one': hp.uniform('dropout_danse_block_one', 0.3, 0.7),\n",
        "    'dropout_danse_block_two': hp.uniform('dropout_danse_block_two', 0.3, 0.7),\n",
        "}\n",
        "best = fmin(\n",
        "    func_obj,\n",
        "    space,\n",
        "    tpe.suggest,\n",
        "    30,\n",
        "    Trials()\n",
        ")"
      ],
      "execution_count": 35,
      "outputs": [
        {
          "output_type": "stream",
          "text": [
            "{'batch_size': 110.0, 'dropout_cnn_block_one': 0.43286620556623245, 'dropout_cnn_block_three': 0.4601240108831398, 'dropout_cnn_block_two': 0.4371322354303627, 'dropout_danse_block_one': 0.44524819053493236, 'dropout_danse_block_two': 0.6674435228288138}\n",
            "accuracy=0.9263038635253906\n",
            "{'batch_size': 140.0, 'dropout_cnn_block_one': 0.34393958150563286, 'dropout_cnn_block_three': 0.40903760533658196, 'dropout_cnn_block_two': 0.34728045821634485, 'dropout_danse_block_one': 0.6864814222242053, 'dropout_danse_block_two': 0.4818976785293213}\n",
            "accuracy=0.9399092793464661\n",
            "{'batch_size': 190.0, 'dropout_cnn_block_one': 0.33345425910584997, 'dropout_cnn_block_three': 0.3524430536513609, 'dropout_cnn_block_two': 0.459843664373528, 'dropout_danse_block_one': 0.4227500367384044, 'dropout_danse_block_two': 0.5318266410401256}\n",
            "accuracy=0.9294784665107727\n",
            "{'batch_size': 140.0, 'dropout_cnn_block_one': 0.42959897793494306, 'dropout_cnn_block_three': 0.3991001610139031, 'dropout_cnn_block_two': 0.37830745540322874, 'dropout_danse_block_one': 0.6812432209987587, 'dropout_danse_block_two': 0.3237606307611396}\n",
            "accuracy=0.8954648375511169\n",
            "{'batch_size': 150.0, 'dropout_cnn_block_one': 0.43206518152333684, 'dropout_cnn_block_three': 0.44923333770838714, 'dropout_cnn_block_two': 0.3507768627965014, 'dropout_danse_block_one': 0.3420070841167886, 'dropout_danse_block_two': 0.6072492500318274}\n",
            "accuracy=0.8503401279449463\n",
            "{'batch_size': 110.0, 'dropout_cnn_block_one': 0.47174207624874454, 'dropout_cnn_block_three': 0.4794278836197853, 'dropout_cnn_block_two': 0.3206301746665936, 'dropout_danse_block_one': 0.49222041956560086, 'dropout_danse_block_two': 0.45214115683494926}\n",
            "accuracy=0.96417236328125\n",
            "{'batch_size': 100.0, 'dropout_cnn_block_one': 0.33507612053024705, 'dropout_cnn_block_three': 0.38683278951476663, 'dropout_cnn_block_two': 0.40687748116087735, 'dropout_danse_block_one': 0.43501940475327644, 'dropout_danse_block_two': 0.41430773998114845}\n",
            "accuracy=0.9594104290008545\n",
            "{'batch_size': 160.0, 'dropout_cnn_block_one': 0.34020731997292475, 'dropout_cnn_block_three': 0.3903633820335777, 'dropout_cnn_block_two': 0.3000814659718484, 'dropout_danse_block_one': 0.4472369512391837, 'dropout_danse_block_two': 0.30984273765994}\n",
            "accuracy=0.9628117680549622\n",
            "{'batch_size': 120.0, 'dropout_cnn_block_one': 0.34066048768759466, 'dropout_cnn_block_three': 0.33403945654766526, 'dropout_cnn_block_two': 0.4993812022245879, 'dropout_danse_block_one': 0.5072976000700024, 'dropout_danse_block_two': 0.5570534089480617}\n",
            "accuracy=0.8775510191917419\n",
            "{'batch_size': 190.0, 'dropout_cnn_block_one': 0.3458154509589313, 'dropout_cnn_block_three': 0.411333232087849, 'dropout_cnn_block_two': 0.4144266385026171, 'dropout_danse_block_one': 0.6685392944598765, 'dropout_danse_block_two': 0.5247934943328737}\n",
            "accuracy=0.9142857193946838\n",
            "{'batch_size': 120.0, 'dropout_cnn_block_one': 0.3363893314963872, 'dropout_cnn_block_three': 0.36240141404860987, 'dropout_cnn_block_two': 0.38111170781427506, 'dropout_danse_block_one': 0.44850861066285813, 'dropout_danse_block_two': 0.4855039479330623}\n",
            "accuracy=0.960090696811676\n",
            "{'batch_size': 110.0, 'dropout_cnn_block_one': 0.4154229244170562, 'dropout_cnn_block_three': 0.4564054606143946, 'dropout_cnn_block_two': 0.44940238286729084, 'dropout_danse_block_one': 0.34910916797687414, 'dropout_danse_block_two': 0.6374737568304462}\n",
            "accuracy=0.9539682269096375\n",
            "{'batch_size': 180.0, 'dropout_cnn_block_one': 0.4966647778176527, 'dropout_cnn_block_three': 0.34119643498561353, 'dropout_cnn_block_two': 0.4269740033665357, 'dropout_danse_block_one': 0.5875969791077299, 'dropout_danse_block_two': 0.32409061922949567}\n",
            "accuracy=0.8965986371040344\n",
            "{'batch_size': 140.0, 'dropout_cnn_block_one': 0.3282907987632249, 'dropout_cnn_block_three': 0.4203794550315809, 'dropout_cnn_block_two': 0.34522509032827864, 'dropout_danse_block_one': 0.5226625236833543, 'dropout_danse_block_two': 0.4630334204941893}\n",
            "accuracy=0.9451247453689575\n",
            "{'batch_size': 160.0, 'dropout_cnn_block_one': 0.45722248730228043, 'dropout_cnn_block_three': 0.3357775831044127, 'dropout_cnn_block_two': 0.36442406594951904, 'dropout_danse_block_one': 0.5292525997428743, 'dropout_danse_block_two': 0.6856662451287876}\n",
            "accuracy=0.9294784665107727\n",
            "{'batch_size': 160.0, 'dropout_cnn_block_one': 0.3511534442281485, 'dropout_cnn_block_three': 0.3273735779104468, 'dropout_cnn_block_two': 0.4046119082750237, 'dropout_danse_block_one': 0.36603296880001646, 'dropout_danse_block_two': 0.6252240677466532}\n",
            "accuracy=0.9535147547721863\n",
            "{'batch_size': 120.0, 'dropout_cnn_block_one': 0.40301048448003857, 'dropout_cnn_block_three': 0.4103527829949156, 'dropout_cnn_block_two': 0.34559538230001774, 'dropout_danse_block_one': 0.4490484129419136, 'dropout_danse_block_two': 0.4637194194527615}\n",
            "accuracy=0.9682539701461792\n",
            "{'batch_size': 200.0, 'dropout_cnn_block_one': 0.4992925853468394, 'dropout_cnn_block_three': 0.3865906580557991, 'dropout_cnn_block_two': 0.38262904250574253, 'dropout_danse_block_one': 0.6900916844782125, 'dropout_danse_block_two': 0.5576016829830865}\n",
            "accuracy=0.684353768825531\n",
            "{'batch_size': 130.0, 'dropout_cnn_block_one': 0.43344863533802414, 'dropout_cnn_block_three': 0.4440617966045377, 'dropout_cnn_block_two': 0.42185986163936456, 'dropout_danse_block_one': 0.5993470672599785, 'dropout_danse_block_two': 0.4553948784119559}\n",
            "accuracy=0.9482993483543396\n",
            "{'batch_size': 150.0, 'dropout_cnn_block_one': 0.3705750474611399, 'dropout_cnn_block_three': 0.4139474871696379, 'dropout_cnn_block_two': 0.32818917097019573, 'dropout_danse_block_one': 0.6003889999260812, 'dropout_danse_block_two': 0.5053714596738812}\n",
            "accuracy=0.9260770678520203\n",
            "{'batch_size': 100.0, 'dropout_cnn_block_one': 0.46351380251869867, 'dropout_cnn_block_three': 0.49714932770544856, 'dropout_cnn_block_two': 0.3087595699599469, 'dropout_danse_block_one': 0.38777601305448267, 'dropout_danse_block_two': 0.38333940624192664}\n",
            "accuracy=0.956916093826294\n",
            "{'batch_size': 110.0, 'dropout_cnn_block_one': 0.30025682466126014, 'dropout_cnn_block_three': 0.48542740452655486, 'dropout_cnn_block_two': 0.3255850355847589, 'dropout_danse_block_one': 0.4839298419078247, 'dropout_danse_block_two': 0.39385164457759486}\n",
            "accuracy=0.9594104290008545\n",
            "{'batch_size': 120.0, 'dropout_cnn_block_one': 0.38475302711821024, 'dropout_cnn_block_three': 0.3094124009460478, 'dropout_cnn_block_two': 0.3216212568420887, 'dropout_danse_block_one': 0.30562223814362754, 'dropout_danse_block_two': 0.43831198409312816}\n",
            "accuracy=0.9555555582046509\n",
            "{'batch_size': 130.0, 'dropout_cnn_block_one': 0.47519513705984656, 'dropout_cnn_block_three': 0.48306136764717844, 'dropout_cnn_block_two': 0.30132993800128965, 'dropout_danse_block_one': 0.5578769208016018, 'dropout_danse_block_two': 0.365667829142097}\n",
            "accuracy=0.9489796161651611\n",
            "{'batch_size': 100.0, 'dropout_cnn_block_one': 0.3958309818326846, 'dropout_cnn_block_three': 0.4385206597370403, 'dropout_cnn_block_two': 0.33248673691247477, 'dropout_danse_block_one': 0.4914404817668981, 'dropout_danse_block_two': 0.4174650763324944}\n",
            "accuracy=0.9743764400482178\n",
            "{'batch_size': 100.0, 'dropout_cnn_block_one': 0.40111294715387663, 'dropout_cnn_block_three': 0.43247900389558414, 'dropout_cnn_block_two': 0.3649315603436945, 'dropout_danse_block_one': 0.40303097236811314, 'dropout_danse_block_two': 0.35360384969537406}\n",
            "accuracy=0.940816342830658\n",
            "{'batch_size': 130.0, 'dropout_cnn_block_one': 0.37344978176091215, 'dropout_cnn_block_three': 0.3724806981529616, 'dropout_cnn_block_two': 0.3361074533039559, 'dropout_danse_block_one': 0.47360596967715096, 'dropout_danse_block_two': 0.4260335128827597}\n",
            "accuracy=0.9625850319862366\n",
            "{'batch_size': 100.0, 'dropout_cnn_block_one': 0.3973379890865304, 'dropout_cnn_block_three': 0.43107035281854295, 'dropout_cnn_block_two': 0.3659059327571004, 'dropout_danse_block_one': 0.6281477460078894, 'dropout_danse_block_two': 0.5838659322855327}\n",
            "accuracy=0.9362812042236328\n",
            "{'batch_size': 110.0, 'dropout_cnn_block_one': 0.4151391663523981, 'dropout_cnn_block_three': 0.47129253570405083, 'dropout_cnn_block_two': 0.3935930045869229, 'dropout_danse_block_one': 0.5346025102990571, 'dropout_danse_block_two': 0.40933610679740834}\n",
            "accuracy=0.882993221282959\n",
            "{'batch_size': 120.0, 'dropout_cnn_block_one': 0.4458568636849888, 'dropout_cnn_block_three': 0.43301113690051324, 'dropout_cnn_block_two': 0.30775703639042246, 'dropout_danse_block_one': 0.3039803165046537, 'dropout_danse_block_two': 0.34921572600505313}\n",
            "accuracy=0.9351474046707153\n",
            "100%|██████████| 30/30 [10:14<00:00, 20.49s/it, best loss: -0.9743764400482178]\n"
          ],
          "name": "stdout"
        }
      ]
    },
    {
      "cell_type": "code",
      "metadata": {
        "id": "VIpVU4KZPe97",
        "colab_type": "code",
        "colab": {}
      },
      "source": [
        ""
      ],
      "execution_count": 0,
      "outputs": []
    }
  ]
}